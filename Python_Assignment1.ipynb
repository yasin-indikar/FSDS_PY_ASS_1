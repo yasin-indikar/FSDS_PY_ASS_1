{
 "cells": [
  {
   "cell_type": "code",
   "execution_count": 3,
   "id": "7857e923",
   "metadata": {},
   "outputs": [
    {
     "data": {
      "text/plain": [
       "\"\\n\\n*            = Multiplication operator\\n\\n'hello'       = String value\\n\\n-87.8         = Integer value\\n\\n-             = Subtract operator\\n\\n/             = Div operator\\n\\n+             = addition operator \\n\\n6             = Value   \\n\\n\""
      ]
     },
     "execution_count": 3,
     "metadata": {},
     "output_type": "execute_result"
    }
   ],
   "source": [
    "# Q1\n",
    "\n",
    "''' 1. In the below elements which of them are values or an expression? eg:- values can be\n",
    "integer or string and expressions will be mathematical operators.'''\n",
    "\n",
    "'''\n",
    "\n",
    "*            = Multiplication operator\n",
    "\n",
    "'hello'       = String value\n",
    "\n",
    "-87.8         = Integer value\n",
    "\n",
    "-             = Subtract operator\n",
    "\n",
    "/             = Div operator\n",
    "\n",
    "+             = addition operator \n",
    "\n",
    "6             = Value   \n",
    "\n",
    "'''"
   ]
  },
  {
   "cell_type": "markdown",
   "id": "da1cc9f9",
   "metadata": {},
   "source": [
    "# 2. What is the difference between string and variable?\n",
    "\n",
    "\n",
    "'''\n",
    "\n",
    "string a class ....  reference datatype  ... it is used to represent text type data...\n",
    "variable is any alphabet or group of alphabet which work as temporary storage locations , a variable is used to represent any value\n",
    "\n",
    "example :::\n",
    "\n",
    "String x=\"Yasin\";\n",
    "// here x is variable and type of value it stores is in string \n",
    "\n",
    "'''\n"
   ]
  },
  {
   "cell_type": "markdown",
   "id": "bcf7fa12",
   "metadata": {},
   "source": [
    "# 3. Describe three different data types.\n",
    "\n",
    "'''\n",
    "1 - Integer data type. ex :1,10,-20\n",
    "\n",
    "2 - floating number. ex : values with decimal (20.5,-1.3)\n",
    "\n",
    "3 - Boolean.   ex : True or False \n",
    "\n",
    "4 - List.\n",
    "Lists are just like the arrays, declared in other languages which is a ordered collection of data. It is very flexible as the items in a list do not need to be of the same type. ex- [20,'yasin',True]\n",
    "\n",
    "'''"
   ]
  },
  {
   "cell_type": "markdown",
   "id": "40103137",
   "metadata": {},
   "source": [
    "# 4. What is an expression made up of? What do all expressions do?\n",
    "\n",
    "'''\n",
    "An expression in Python is a combination of operators and operands.\n",
    "\n",
    "An example of expression can be : x = x + 10. In this expression, the first 10 is added to the variable x. After the addition is performed, the result is assigned to the variable x.\n",
    "\n",
    "ex\n",
    "\n",
    "x = 25          a statement\n",
    "\n",
    "x = x + 10      an expression\n",
    "\n",
    "\n",
    "'''"
   ]
  },
  {
   "cell_type": "markdown",
   "id": "f3a14347",
   "metadata": {},
   "source": [
    "# 5 This assignment statements, like spam = 10. What is the difference between an expression and a statement?\n",
    "\n",
    "'''\n",
    "\n",
    "spam = 10  -- is a statement\n",
    "\n",
    "x = spam + 10  ---- is an expression\n",
    "\n",
    "print(x) \n",
    "\n",
    "output : 20\n",
    "\n",
    "'''"
   ]
  },
  {
   "cell_type": "markdown",
   "id": "b09ea859",
   "metadata": {},
   "source": [
    "# 6. After running the following code, what does the variable bacon contain?\n",
    "\n",
    "'''\n",
    "\n",
    "bacon = 22\n",
    "\n",
    "bacon + 1\n",
    "\n",
    "print(bacon) \n",
    "\n",
    "O/P : 23\n",
    "\n",
    "'''"
   ]
  },
  {
   "cell_type": "code",
   "execution_count": 5,
   "id": "2aec3dc9",
   "metadata": {},
   "outputs": [
    {
     "name": "stdout",
     "output_type": "stream",
     "text": [
      "22\n"
     ]
    }
   ],
   "source": [
    "bacon = 22\n",
    "bacon + 1\n",
    "print(bacon)"
   ]
  },
  {
   "cell_type": "markdown",
   "id": "39232089",
   "metadata": {},
   "source": [
    "# 7. What should the values of the following two terms be?\n",
    "'''\n",
    "\n",
    "'spam' + 'spamspam'   = O/P  'spamspamspam'\n",
    "\n",
    "'spam' * 3            = O/P  'spamspamspam'\n",
    "\n",
    "\n",
    "\n",
    "'''"
   ]
  },
  {
   "cell_type": "code",
   "execution_count": 8,
   "id": "5cc6079a",
   "metadata": {},
   "outputs": [
    {
     "name": "stdout",
     "output_type": "stream",
     "text": [
      "spamspamspam\n"
     ]
    }
   ],
   "source": [
    "a = 'spam' + 'spamspam'\n",
    "print(a)"
   ]
  },
  {
   "cell_type": "code",
   "execution_count": 9,
   "id": "e51915b2",
   "metadata": {},
   "outputs": [
    {
     "name": "stdout",
     "output_type": "stream",
     "text": [
      "spamspamspam\n"
     ]
    }
   ],
   "source": [
    "b = 'spam' * 3\n",
    "print(b)"
   ]
  },
  {
   "cell_type": "markdown",
   "id": "c85781a4",
   "metadata": {},
   "source": [
    "# 8. Why is eggs a valid variable name while 100 is invalid?\n",
    "'''\n",
    "\n",
    "Ans : Because varible name must start with alphabet or _ underscore. eggs is valid variable name and 100 is invalid.\n",
    "\n",
    "'''"
   ]
  },
  {
   "cell_type": "markdown",
   "id": "7d7501b9",
   "metadata": {},
   "source": [
    "# 9. What three functions can be used to get the integer, floating-point number, or string version of a value?\n",
    "\n",
    "'''\n",
    "\n",
    "The int() , float() , and str( ) functions will evaluate to the integer, floating-point number, and string versions of the value passed to them.\n",
    "\n",
    "\n",
    "'''"
   ]
  },
  {
   "cell_type": "markdown",
   "id": "22c61aa5",
   "metadata": {},
   "source": [
    "# 10. Why does this expression cause an error? How can you fix it?\n",
    "\n",
    "'''\n",
    "\n",
    "\n",
    "'I have eaten' + 99 + 'burritos.'\n",
    "\n",
    "Type error : can only concatenate str (not \"int\") to str.\n",
    "\n",
    "How can we fix it?\n",
    "\n",
    "changing 99 int value to string value just by giving '99' in qoutes.\n",
    "\n",
    "'''\n",
    "\n"
   ]
  },
  {
   "cell_type": "code",
   "execution_count": 13,
   "id": "2de0aa3e",
   "metadata": {},
   "outputs": [
    {
     "ename": "TypeError",
     "evalue": "can only concatenate str (not \"int\") to str",
     "output_type": "error",
     "traceback": [
      "\u001b[1;31m---------------------------------------------------------------------------\u001b[0m",
      "\u001b[1;31mTypeError\u001b[0m                                 Traceback (most recent call last)",
      "\u001b[1;32m<ipython-input-13-2bd9ffd9f7bd>\u001b[0m in \u001b[0;36m<module>\u001b[1;34m\u001b[0m\n\u001b[1;32m----> 1\u001b[1;33m \u001b[0me\u001b[0m \u001b[1;33m=\u001b[0m \u001b[1;34m'I have eaten'\u001b[0m \u001b[1;33m+\u001b[0m \u001b[1;36m99\u001b[0m \u001b[1;33m+\u001b[0m \u001b[1;34m'burritos.'\u001b[0m\u001b[1;33m\u001b[0m\u001b[1;33m\u001b[0m\u001b[0m\n\u001b[0m",
      "\u001b[1;31mTypeError\u001b[0m: can only concatenate str (not \"int\") to str"
     ]
    }
   ],
   "source": [
    "e = 'I have eaten' + 99 + 'burritos.'"
   ]
  },
  {
   "cell_type": "code",
   "execution_count": 18,
   "id": "a1cec511",
   "metadata": {},
   "outputs": [],
   "source": [
    "d = 'I have eaten '  +  '99'   + ' burritos.'"
   ]
  },
  {
   "cell_type": "code",
   "execution_count": 19,
   "id": "c310e9c2",
   "metadata": {},
   "outputs": [
    {
     "name": "stdout",
     "output_type": "stream",
     "text": [
      "I have eaten 99 burritos.\n"
     ]
    }
   ],
   "source": [
    "print(d)"
   ]
  },
  {
   "cell_type": "code",
   "execution_count": null,
   "id": "0d023152",
   "metadata": {},
   "outputs": [],
   "source": []
  }
 ],
 "metadata": {
  "kernelspec": {
   "display_name": "Python 3",
   "language": "python",
   "name": "python3"
  },
  "language_info": {
   "codemirror_mode": {
    "name": "ipython",
    "version": 3
   },
   "file_extension": ".py",
   "mimetype": "text/x-python",
   "name": "python",
   "nbconvert_exporter": "python",
   "pygments_lexer": "ipython3",
   "version": "3.8.8"
  }
 },
 "nbformat": 4,
 "nbformat_minor": 5
}
