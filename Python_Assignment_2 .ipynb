{
 "cells": [
  {
   "cell_type": "markdown",
   "id": "3567c04a",
   "metadata": {},
   "source": [
    "# 1.What are the two values of the Boolean data type? How do you write them?\n",
    "'''\n",
    "\n",
    "Ans:- True and False, using capital T and F .\n",
    "\n",
    "'''"
   ]
  },
  {
   "cell_type": "code",
   "execution_count": 3,
   "id": "18afa542",
   "metadata": {},
   "outputs": [
    {
     "name": "stdout",
     "output_type": "stream",
     "text": [
      "True\n",
      "False\n"
     ]
    }
   ],
   "source": [
    "#Example :\n",
    "bool1=True\n",
    "bool2=False\n",
    "print(bool1)\n",
    "print(bool2)"
   ]
  },
  {
   "cell_type": "markdown",
   "id": "a9e19de9",
   "metadata": {},
   "source": [
    "# 2. What are the three different types of Boolean operators?\n",
    "\n",
    "'''\n",
    "\n",
    "There are three logical operators that are used to compare values. They evaluate expressions down to Boolean values, returning either True or False . These operators are and , or , and not and are defined in the table below.\n",
    "\n",
    "'''"
   ]
  },
  {
   "cell_type": "markdown",
   "id": "aed99134",
   "metadata": {},
   "source": [
    "# 3. Make a list of each Boolean operator&#39;s truth tables (i.e. every possible combination of Boolean values for the operator and what it evaluate ).\n",
    "\n",
    "'''\n",
    "A variable of the primitive data type boolean can have two values: true and false \n",
    "\n",
    "True and True is True.\n",
    "\n",
    "True and False is False.\n",
    "\n",
    "False and True is False.\n",
    "\n",
    "False and False is False.\n",
    "\n",
    "True or True is True.\n",
    "\n",
    "True or False is True.\n",
    "\n",
    "False or True is True.\n",
    "\n",
    "False or False is False.\n",
    "\n",
    "not True is False.\n",
    "\n",
    "not False is True. \n",
    "\n",
    "\n",
    "'''"
   ]
  },
  {
   "cell_type": "raw",
   "id": "831533ad",
   "metadata": {},
   "source": [
    "## True is 1 and False is 0\n",
    "\n",
    "Truth Table for AND\n",
    "A B output\n",
    "0 0 0\n",
    "0 1 0\n",
    "1 0 0\n",
    "1 1 1\n",
    "\n",
    "Truth Table for OR\n",
    "A B output\n",
    "0 0 0\n",
    "0 1 1\n",
    "1 0 1\n",
    "1 1 1\n",
    "\n",
    "Truth Table for NOT\n",
    "A output\n",
    "0 1\n",
    "1 0"
   ]
  },
  {
   "cell_type": "code",
   "execution_count": 5,
   "id": "ce1e5c31",
   "metadata": {},
   "outputs": [
    {
     "name": "stdout",
     "output_type": "stream",
     "text": [
      "False\n",
      "False\n",
      "True\n",
      "False\n",
      "False\n",
      "True\n"
     ]
    }
   ],
   "source": [
    "# 4. What are the values of the following expressions?\n",
    "\n",
    "print((5>4) and (3==5))\n",
    "print(not(5>4))\n",
    "print((5>4) or (3==5))\n",
    "print(not(5>4) or (3==5))\n",
    "print((True and True) and (True==False))\n",
    "print((not(False))or(not(True)))"
   ]
  },
  {
   "cell_type": "raw",
   "id": "5ea2956d",
   "metadata": {},
   "source": [
    "Q5. What are the six comparison operators?\n",
    "\n",
    "Ans . ==, !=, <, >, <=, and >=\n",
    "\n",
    "Q6. How do you tell the difference between the equal to and assignment operators?Describe a condition and when you would use one.\n",
    "\n",
    "== is the equal to operator that compares two values and evaluates to a Boolean, while = is the assignment operator that stores a value in a variable."
   ]
  },
  {
   "cell_type": "code",
   "execution_count": 6,
   "id": "ded16ad5",
   "metadata": {},
   "outputs": [
    {
     "name": "stdout",
     "output_type": "stream",
     "text": [
      "False\n",
      "c = 1\n"
     ]
    }
   ],
   "source": [
    "#example.\n",
    "\n",
    "# Equal To Operator\n",
    "\n",
    "if(10==7):\n",
    "    print(\"True\")\n",
    "else:\n",
    "    print(\"False\")\n",
    "\n",
    "#Assignment operator\n",
    "\n",
    "c=1                        #here we have used assignment operator(=) to assign value of c which is 1\n",
    "print(\"c =\",c)"
   ]
  },
  {
   "cell_type": "code",
   "execution_count": 7,
   "id": "3ecd31d3",
   "metadata": {},
   "outputs": [
    {
     "name": "stdout",
     "output_type": "stream",
     "text": [
      "ham\n",
      "spam\n",
      "spam\n"
     ]
    }
   ],
   "source": [
    "# Q7. Identify the three blocks in this code:\n",
    "\n",
    "spam = 0\n",
    "if spam == 10:\n",
    "    print('eggs') #Block 1\n",
    "if spam > 5:\n",
    "    print('bacon') #Block 2\n",
    "else:\n",
    "    print('ham') #Block 3\n",
    "    print('spam')\n",
    "    print('spam')"
   ]
  },
  {
   "cell_type": "code",
   "execution_count": 8,
   "id": "510e099b",
   "metadata": {},
   "outputs": [
    {
     "name": "stdout",
     "output_type": "stream",
     "text": [
      "Input a no.1\n",
      "Hello\n"
     ]
    }
   ],
   "source": [
    "# 8. Write code that prints Hello if 1 is stored in spam, prints Howdy if 2 is stored in spam, and prints Greetings! if anything else is stored in spam.\n",
    "\n",
    "spam = int(input(\"Input a no.\"))\n",
    "if spam == 1:\n",
    "    print(\"Hello\")\n",
    "elif spam == 2:\n",
    "    print(\"Howdy\")\n",
    "else:\n",
    "    print(\"Greetings!\")\n",
    "        "
   ]
  },
  {
   "cell_type": "raw",
   "id": "f0ee31ea",
   "metadata": {},
   "source": [
    "Q9.If your programme is stuck in an endless loop, what keys you’ll press?\n",
    "\n",
    "Ans . If program is stuck in endless loop we will press ctrl+c.\n",
    "\n",
    "Q10. How can you tell the difference between break and continue?"
   ]
  },
  {
   "cell_type": "code",
   "execution_count": 9,
   "id": "de353744",
   "metadata": {},
   "outputs": [
    {
     "name": "stdout",
     "output_type": "stream",
     "text": [
      "0\n",
      "1\n",
      "2\n",
      "3\n",
      "4\n",
      "5\n",
      "6\n",
      "Breaked\n",
      "0\n",
      "1\n",
      "2\n",
      "3\n",
      "4\n",
      "5\n",
      "6\n",
      "8\n",
      "9\n"
     ]
    }
   ],
   "source": [
    "# use of break\n",
    "for i in range(10):\n",
    "    if(i==7):\n",
    "        break\n",
    "    print(i)\n",
    "    \n",
    "print('Breaked')\n",
    "\n",
    "#use of  continue\n",
    "for i in range(10):\n",
    "    if(i==7):\n",
    "        continue\n",
    "    print(i)\n",
    "    \n",
    "    "
   ]
  },
  {
   "cell_type": "raw",
   "id": "75501178",
   "metadata": {},
   "source": [
    "^ Ans . The break statement will move the execution outside and just after a loop. The continue statement will move the execution to the start of the loop."
   ]
  },
  {
   "cell_type": "code",
   "execution_count": 10,
   "id": "12dd944d",
   "metadata": {},
   "outputs": [
    {
     "name": "stdout",
     "output_type": "stream",
     "text": [
      "0\n",
      "1\n",
      "2\n",
      "3\n",
      "4\n",
      "5\n",
      "6\n",
      "7\n",
      "8\n",
      "9\n",
      "Yasin\n",
      "0\n",
      "1\n",
      "2\n",
      "3\n",
      "4\n",
      "5\n",
      "6\n",
      "7\n",
      "8\n",
      "9\n",
      "Nizam\n",
      "0\n",
      "1\n",
      "2\n",
      "3\n",
      "4\n",
      "5\n",
      "6\n",
      "7\n",
      "8\n",
      "9\n"
     ]
    }
   ],
   "source": [
    "# Q11. In a for loop, what is the difference between range(10), range(0, 10), and range(0, 10, 1)?\n",
    "\n",
    "\n",
    "for i in range(10):\n",
    "    print(i)\n",
    "print(\"Yasin\") \n",
    "for i in range(0,10):\n",
    "    print(i)\n",
    "print(\"Nizam\")\n",
    "for i in range(0,10,1):\n",
    "    print(i)"
   ]
  },
  {
   "cell_type": "raw",
   "id": "7bb6b286",
   "metadata": {},
   "source": [
    "From the above output we can conclude that they all do the same thing. The range(10) call ranges from 0 up to (but not including) 10, range(0, 10) tells the loop to start at 0, and range(0, 10, 1) tells the loop to increase the variable by 1 on each iteration."
   ]
  },
  {
   "cell_type": "code",
   "execution_count": 11,
   "id": "5c23e2a7",
   "metadata": {},
   "outputs": [
    {
     "name": "stdout",
     "output_type": "stream",
     "text": [
      "For Loop\n",
      "1\n",
      "2\n",
      "3\n",
      "4\n",
      "5\n",
      "6\n",
      "7\n",
      "8\n",
      "9\n",
      "10\n",
      "While Loop\n",
      "1\n",
      "2\n",
      "3\n",
      "4\n",
      "5\n",
      "6\n",
      "7\n",
      "8\n",
      "9\n",
      "10\n"
     ]
    }
   ],
   "source": [
    "# Q12. Write a short program that prints the numbers 1 to 10 using a for loop. Then write an equivalent program that prints the numbers 1 to 10 using a while loop.\n",
    "\n",
    "#Use of For Loop\n",
    "print(\"For Loop\")\n",
    "for i in range(1,11):\n",
    "    print(i)\n",
    "#Use of While Loop\n",
    "print(\"While Loop\")\n",
    "a =1\n",
    "while a <= 10:\n",
    "    print(a)\n",
    "    a+=1"
   ]
  },
  {
   "cell_type": "markdown",
   "id": "4c05f779",
   "metadata": {},
   "source": [
    "# Q13. If you had a function named bacon() inside a module named spam, how would you call it after importing spam?\n",
    "\n",
    "\n",
    "'This function can be called with spam.bacon().'"
   ]
  },
  {
   "cell_type": "code",
   "execution_count": null,
   "id": "ca116a08",
   "metadata": {},
   "outputs": [],
   "source": []
  }
 ],
 "metadata": {
  "kernelspec": {
   "display_name": "Python 3 (ipykernel)",
   "language": "python",
   "name": "python3"
  },
  "language_info": {
   "codemirror_mode": {
    "name": "ipython",
    "version": 3
   },
   "file_extension": ".py",
   "mimetype": "text/x-python",
   "name": "python",
   "nbconvert_exporter": "python",
   "pygments_lexer": "ipython3",
   "version": "3.9.12"
  }
 },
 "nbformat": 4,
 "nbformat_minor": 5
}
